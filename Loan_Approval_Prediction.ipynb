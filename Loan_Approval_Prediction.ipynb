{
 "cells": [
  {
   "cell_type": "code",
   "execution_count": 85,
   "id": "385707f1-6e61-4e92-8099-bde536df96e9",
   "metadata": {},
   "outputs": [
    {
     "name": "stdout",
     "output_type": "stream",
     "text": [
      "    Loan_ID Gender Married Dependents     Education Self_Employed  \\\n",
      "0  LP001002   Male      No          0      Graduate            No   \n",
      "1  LP001003   Male     Yes          1      Graduate            No   \n",
      "2  LP001005   Male     Yes          0      Graduate           Yes   \n",
      "3  LP001006   Male     Yes          0  Not Graduate            No   \n",
      "4  LP001008   Male      No          0      Graduate            No   \n",
      "\n",
      "   ApplicantIncome  CoapplicantIncome  LoanAmount  Loan_Amount_Term  \\\n",
      "0             5849                0.0         NaN             360.0   \n",
      "1             4583             1508.0       128.0             360.0   \n",
      "2             3000                0.0        66.0             360.0   \n",
      "3             2583             2358.0       120.0             360.0   \n",
      "4             6000                0.0       141.0             360.0   \n",
      "\n",
      "   Credit_History Property_Area Loan_Status  \n",
      "0             1.0         Urban           Y  \n",
      "1             1.0         Rural           N  \n",
      "2             1.0         Urban           Y  \n",
      "3             1.0         Urban           Y  \n",
      "4             1.0         Urban           Y  \n",
      "    Loan_ID Gender Married Dependents     Education Self_Employed  \\\n",
      "0  LP001015   Male     Yes          0      Graduate            No   \n",
      "1  LP001022   Male     Yes          1      Graduate            No   \n",
      "2  LP001031   Male     Yes          2      Graduate            No   \n",
      "3  LP001035   Male     Yes          2      Graduate            No   \n",
      "4  LP001051   Male      No          0  Not Graduate            No   \n",
      "\n",
      "   ApplicantIncome  CoapplicantIncome  LoanAmount  Loan_Amount_Term  \\\n",
      "0             5720                  0       110.0             360.0   \n",
      "1             3076               1500       126.0             360.0   \n",
      "2             5000               1800       208.0             360.0   \n",
      "3             2340               2546       100.0             360.0   \n",
      "4             3276                  0        78.0             360.0   \n",
      "\n",
      "   Credit_History Property_Area  \n",
      "0             1.0         Urban  \n",
      "1             1.0         Urban  \n",
      "2             1.0         Urban  \n",
      "3             NaN         Urban  \n",
      "4             1.0         Urban  \n"
     ]
    }
   ],
   "source": [
    "import pandas as pd\n",
    "import pandas as pd\n",
    "from sklearn.model_selection import train_test_split\n",
    "from sklearn.preprocessing import StandardScaler, OneHotEncoder\n",
    "from sklearn.impute import SimpleImputer\n",
    "from sklearn.compose import ColumnTransformer\n",
    "from sklearn.pipeline import Pipeline\n",
    "from sklearn.linear_model import LogisticRegression\n",
    "from sklearn.tree import DecisionTreeClassifier\n",
    "from sklearn.ensemble import RandomForestClassifier\n",
    "from sklearn.svm import SVC\n",
    "from sklearn.metrics import accuracy_score, precision_score, recall_score, f1_score\n",
    "\n",
    "# Load datasets\n",
    "train_df = pd.read_csv('Training Dataset.csv')\n",
    "test_df = pd.read_csv('Test Dataset.csv')\n",
    "\n",
    "# Display the first few rows of the datasets\n",
    "print(train_df.head())\n",
    "print(test_df.head())"
   ]
  },
  {
   "cell_type": "code",
   "execution_count": 87,
   "id": "f6bdf37f-5822-416c-8653-1d7e8f238191",
   "metadata": {},
   "outputs": [],
   "source": [
    "# Separate features and target variable from training data\n",
    "X = train_df.drop('Loan_Status', axis=1)\n",
    "y = train_df['Loan_Status']\n",
    "\n",
    "# Identify categorical and numerical columns\n",
    "categorical_cols = [col for col in X.columns if X[col].dtype == 'object']\n",
    "numerical_cols = [col for col in X.columns if X[col].dtype in ['int64', 'float64']]\n",
    "\n",
    "# Preprocessing for numerical data\n",
    "numerical_transformer = Pipeline(steps=[\n",
    "    ('imputer', SimpleImputer(strategy='median')),\n",
    "    ('scaler', StandardScaler())\n",
    "])\n",
    "\n",
    "# Preprocessing for categorical data\n",
    "categorical_transformer = Pipeline(steps=[\n",
    "    ('imputer', SimpleImputer(strategy='most_frequent')),\n",
    "    ('onehot', OneHotEncoder(handle_unknown='ignore'))\n",
    "])\n",
    "\n",
    "# Bundle preprocessing for numerical and categorical data\n",
    "preprocessor = ColumnTransformer(\n",
    "    transformers=[\n",
    "        ('num', numerical_transformer, numerical_cols),\n",
    "        ('cat', categorical_transformer, categorical_cols)\n",
    "    ])\n",
    "\n",
    "# Preprocess the data\n",
    "X_processed = preprocessor.fit_transform(X)\n",
    "test_processed = preprocessor.transform(test_df)"
   ]
  },
  {
   "cell_type": "code",
   "execution_count": 89,
   "id": "81e1c62a-cffa-44f9-b38b-ee785509ea3c",
   "metadata": {},
   "outputs": [
    {
     "name": "stdout",
     "output_type": "stream",
     "text": [
      "Logistic Regression:\n",
      "Accuracy: 0.7886178861788617\n",
      "Precision: 0.7596153846153846\n",
      "Recall: 0.9875\n",
      "F1-score: 0.8586956521739131\n",
      "\n",
      "Decision Tree:\n",
      "Accuracy: 0.6910569105691057\n",
      "Precision: 0.7282608695652174\n",
      "Recall: 0.8375\n",
      "F1-score: 0.7790697674418605\n",
      "\n",
      "Random Forest:\n",
      "Accuracy: 0.7886178861788617\n",
      "Precision: 0.7596153846153846\n",
      "Recall: 0.9875\n",
      "F1-score: 0.8586956521739131\n",
      "\n",
      "SVM:\n",
      "Accuracy: 0.7967479674796748\n",
      "Precision: 0.7619047619047619\n",
      "Recall: 1.0\n",
      "F1-score: 0.8648648648648649\n",
      "\n"
     ]
    }
   ],
   "source": [
    "# Split the data into train and validation sets\n",
    "X_train, X_val, y_train, y_val = train_test_split(X_processed, y, test_size=0.2, random_state=42)\n",
    "\n",
    "# Define models\n",
    "models = {\n",
    "    'Logistic Regression': LogisticRegression(),\n",
    "    'Decision Tree': DecisionTreeClassifier(),\n",
    "    'Random Forest': RandomForestClassifier(),\n",
    "    'SVM': SVC()\n",
    "}\n",
    "\n",
    "# Train and evaluate models\n",
    "for model_name, model in models.items():\n",
    "    model.fit(X_train, y_train)\n",
    "    y_pred = model.predict(X_val)\n",
    "    \n",
    "    print(f'{model_name}:')\n",
    "    print(f'Accuracy: {accuracy_score(y_val, y_pred)}')\n",
    "    print(f'Precision: {precision_score(y_val, y_pred, pos_label=\"Y\" or \"N\", average=\"binary\")}')\n",
    "    print(f'Recall: {recall_score(y_val, y_pred, pos_label=\"Y\" or \"N\", average=\"binary\")}')\n",
    "    print(f'F1-score: {f1_score(y_val, y_pred, pos_label=\"Y\" or \"N\", average=\"binary\")}\\n')"
   ]
  },
  {
   "cell_type": "code",
   "execution_count": 91,
   "id": "ff5238be-d7fe-4c4e-bcbd-5c5ac86c4b6e",
   "metadata": {},
   "outputs": [],
   "source": [
    "# Support Vector Machine was the best-performing model based on evaluation\n",
    "best_model = SVC()\n",
    "best_model.fit(X_processed, y)\n",
    "\n",
    "# Generate predictions for the test dataset\n",
    "test_predictions = best_model.predict(test_processed)\n",
    "\n",
    "# Create a submission file\n",
    "submission = pd.DataFrame({\n",
    "    'Loan_Id': test_df['Loan_ID'],\n",
    "    'Loan_Status': test_predictions\n",
    "})\n",
    "\n",
    "submission.to_csv('submission.csv', index=False)"
   ]
  },
  {
   "cell_type": "code",
   "execution_count": 93,
   "id": "d4086b8e-520c-40bb-8a44-0e666d7b9195",
   "metadata": {},
   "outputs": [
    {
     "name": "stdout",
     "output_type": "stream",
     "text": [
      "    Loan_Id Loan_Status\n",
      "0  LP001015           Y\n",
      "1  LP001022           Y\n",
      "2  LP001031           Y\n",
      "3  LP001035           Y\n",
      "4  LP001051           Y\n"
     ]
    }
   ],
   "source": [
    "# Load submission.csv file\n",
    "sub_df = pd.read_csv('submission.csv')\n",
    "\n",
    "# Display the first few rows of the submission file\n",
    "print(sub_df.head())"
   ]
  },
  {
   "cell_type": "code",
   "execution_count": null,
   "id": "f9ead819-0b0f-45de-ad99-b7686e2716a8",
   "metadata": {},
   "outputs": [],
   "source": []
  }
 ],
 "metadata": {
  "kernelspec": {
   "display_name": "Python 3 (ipykernel)",
   "language": "python",
   "name": "python3"
  },
  "language_info": {
   "codemirror_mode": {
    "name": "ipython",
    "version": 3
   },
   "file_extension": ".py",
   "mimetype": "text/x-python",
   "name": "python",
   "nbconvert_exporter": "python",
   "pygments_lexer": "ipython3",
   "version": "3.12.4"
  }
 },
 "nbformat": 4,
 "nbformat_minor": 5
}
